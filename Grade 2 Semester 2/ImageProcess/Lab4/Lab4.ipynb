{
 "metadata": {
  "language_info": {
   "codemirror_mode": {
    "name": "ipython",
    "version": 3
   },
   "file_extension": ".py",
   "mimetype": "text/x-python",
   "name": "python",
   "nbconvert_exporter": "python",
   "pygments_lexer": "ipython3",
   "version": "3.9.1-final"
  },
  "orig_nbformat": 2,
  "kernelspec": {
   "name": "python391jvsc74a57bd04c69b6aba1a55d322c309d18c922f1762f6ff29a3f9f7afce8b08ffaecd6e5cd",
   "display_name": "Python 3.9.1 64-bit"
  }
 },
 "nbformat": 4,
 "nbformat_minor": 2,
 "cells": [
  {
   "cell_type": "code",
   "execution_count": 6,
   "metadata": {},
   "outputs": [],
   "source": [
    "import cv2\n",
    "import numpy as np\n",
    "import matplotlib.pyplot as plt"
   ]
  },
  {
   "cell_type": "code",
   "execution_count": 7,
   "metadata": {},
   "outputs": [
    {
     "output_type": "stream",
     "name": "stderr",
     "text": [
      "<ipython-input-7-6b88a64dbba5>:5: RuntimeWarning: divide by zero encountered in log\n  log_transformed = c * np.log(1 + img)\n"
     ]
    }
   ],
   "source": [
    "# Зургийг дуудах.\n",
    "img = cv2.imread('sample.jpg')\n",
    "# log transform хэрэгжүүлэх.\n",
    "c = 255 / (np.log(1 + np.max(img)))\n",
    "log_transformed = c * np.log(1 + img)\n",
    "# өгөгдлий төрлийг тодорхойлох.\n",
    "log_transformed = np.array(log_transformed, dtype = np.uint8)\n",
    "# Гаралтыг хадгалах.\n",
    "cv2.imwrite('log_transformed.jpg', log_transformed) \n",
    "plt.subplot(121)\n",
    "plt.imshow(img)\n",
    "plt.title('Original')\n",
    "plt.subplot(122)\n",
    "plt.imshow(log_transformed)\n",
    "plt.title('After')\n",
    "plt.show()"
   ]
  },
  {
   "cell_type": "code",
   "execution_count": null,
   "metadata": {},
   "outputs": [],
   "source": []
  }
 ]
}